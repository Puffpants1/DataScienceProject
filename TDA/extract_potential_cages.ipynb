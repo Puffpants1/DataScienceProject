{
 "cells": [
  {
   "cell_type": "code",
   "execution_count": 1,
   "id": "ba5ad7f2-7ac1-4c40-885d-b6be4a2b8667",
   "metadata": {},
   "outputs": [],
   "source": [
    "import pandas as pd\n",
    "import numpy as np\n",
    "import gudhi as gd"
   ]
  },
  {
   "cell_type": "code",
   "execution_count": 3,
   "id": "a5828336-75cf-48a5-a360-df9889e422c5",
   "metadata": {},
   "outputs": [],
   "source": [
    "heatmap_1_1 = pd.read_csv('heatmap/heatmap_1.csv', index_col=0)\n",
    "heatmap_1_1000 = pd.read_csv('heatmap/heatmap_1_1000.csv', index_col=0)\n",
    "heatmap_1_2000 = pd.read_csv('heatmap/heatmap_1_2000.csv', index_col=0)"
   ]
  },
  {
   "cell_type": "code",
   "execution_count": 5,
   "id": "be008595-69ec-48a9-8d14-0930281116bc",
   "metadata": {},
   "outputs": [],
   "source": [
    "heatmap_2_1 = pd.read_csv('heatmap/heatmap_2.csv', index_col=0)\n",
    "heatmap_2_1000 = pd.read_csv('heatmap/heatmap_2_1000.csv', index_col=0)\n",
    "heatmap_2_2000 = pd.read_csv('heatmap/heatmap_2_2000.csv', index_col=0)"
   ]
  },
  {
   "cell_type": "code",
   "execution_count": 6,
   "id": "29d6d579-3218-43a2-b151-99e1470f0231",
   "metadata": {},
   "outputs": [],
   "source": [
    "combined_1 = heatmap_1_1.combine_first(heatmap_1_1000)\n",
    "combined_1 = combined_1.combine_first(heatmap_1_2000)"
   ]
  },
  {
   "cell_type": "code",
   "execution_count": 8,
   "id": "da385d27-1f51-4c35-882f-ff5bbf13a5b8",
   "metadata": {},
   "outputs": [],
   "source": [
    "combined_2 = heatmap_2_1.combine_first(heatmap_2_1000)\n",
    "combined_2 = combined_2.combine_first(heatmap_2_2000)"
   ]
  },
  {
   "cell_type": "code",
   "execution_count": 10,
   "id": "2d78042b-cc17-4535-8834-6e9567b5887f",
   "metadata": {},
   "outputs": [],
   "source": [
    "combined_1.to_csv('heatmap_1.csv', index=True)\n",
    "combined_2.to_csv('heatmap_2.csv', index=True)"
   ]
  },
  {
   "cell_type": "code",
   "execution_count": 11,
   "id": "c6176800-9d8f-439a-85ff-b89a1215101c",
   "metadata": {},
   "outputs": [],
   "source": [
    "def find_similar(heatmap, refcode, threshold):\n",
    "    similar = {}\n",
    "    refcode_col = heatmap.loc[refcode]\n",
    "    # normalising the scale of values and ranging similarity from 1 (very similar) to 0 (least similar) and take out the value corresponding to refcode\n",
    "    norm_values = refcode_col.sort_values().transform(lambda x:(refcode_col.max()-x)/refcode_col.max())\n",
    "    indices = norm_values.index.values.tolist()\n",
    "    # after being sorted, the second element has the highest similarity value (doesn't mean necessarily they are similar in absolute terms)\n",
    "    best_max = norm_values.loc[indices[1]]\n",
    "    similar[indices[0]] = heatmap.loc[refcode, indices[0]]\n",
    "    # take out the element corresponding to best_max\n",
    "    norm_values = norm_values.iloc[1:]\n",
    "    for index in indices[1:]:\n",
    "        if  norm_values.loc[index] >= threshold*best_max:\n",
    "            similar[index]=heatmap.loc[refcode][index]\n",
    "\n",
    "    return similar"
   ]
  },
  {
   "cell_type": "code",
   "execution_count": 12,
   "id": "9c2983d9-074c-4a02-b33d-d4e9bd8014b7",
   "metadata": {},
   "outputs": [],
   "source": [
    "similar_1_AGAPAA = find_similar(combined_1, 'AGAPAA', 0.95)\n",
    "similar_1_AHABOA = find_similar(combined_1, 'AHABOA', 0.95)\n",
    "similar_1_BOYJOP = find_similar(combined_1, 'BOYJOP', 0.95)\n",
    "\n",
    "similar_2_AGAPAA = find_similar(combined_2, 'AGAPAA', 0.95)\n",
    "similar_2_AHABOA = find_similar(combined_2, 'AHABOA', 0.95)\n",
    "similar_2_BOYJOP = find_similar(combined_2, 'BOYJOP', 0.95)"
   ]
  },
  {
   "cell_type": "code",
   "execution_count": 17,
   "id": "72ef48d5-6f5d-47de-94d8-f743326758b6",
   "metadata": {},
   "outputs": [],
   "source": [
    "similar = (\n",
    "    set(similar_1_AGAPAA.keys()) & set(similar_2_AGAPAA.keys()) | \n",
    "    set(similar_1_AHABOA.keys()) & set(similar_2_AHABOA.keys()) | \n",
    "    set(similar_1_BOYJOP.keys()) & set(similar_2_BOYJOP.keys())\n",
    ")"
   ]
  },
  {
   "cell_type": "code",
   "execution_count": 20,
   "id": "9a264efd-9287-4b92-9889-970f1515b2a5",
   "metadata": {},
   "outputs": [],
   "source": [
    "no_betti = pd.read_csv('heatmap/no_betti_2.csv')"
   ]
  },
  {
   "cell_type": "code",
   "execution_count": 23,
   "id": "2264b46e-81e2-45f7-8e02-a7df59ca45e7",
   "metadata": {},
   "outputs": [],
   "source": [
    "no_betti_crystal = list(no_betti['GAMQOB']) + ['GAMQOB']"
   ]
  },
  {
   "cell_type": "code",
   "execution_count": 24,
   "id": "c661ef80-637f-426a-a7b7-44a1226c7517",
   "metadata": {},
   "outputs": [],
   "source": [
    "crystal_removal = list(similar) + no_betti_crystal"
   ]
  },
  {
   "cell_type": "code",
   "execution_count": 27,
   "id": "f17ab18b-5029-45ea-8845-f70ce58c1f9a",
   "metadata": {},
   "outputs": [],
   "source": [
    "extracted_crystal = list(set(combined_1.index) - set(crystal_removal))"
   ]
  },
  {
   "cell_type": "code",
   "execution_count": 30,
   "id": "e4e4658a-c08c-438d-8f30-0f236ec0690b",
   "metadata": {},
   "outputs": [],
   "source": [
    "with open('potential_cages_list.txt', 'w') as file:\n",
    "    for crystal in extracted_crystal:\n",
    "        file.write(crystal + '\\n')"
   ]
  },
  {
   "cell_type": "code",
   "execution_count": null,
   "id": "59a592fa-e285-4214-bd5a-1c5485a92f38",
   "metadata": {},
   "outputs": [],
   "source": []
  }
 ],
 "metadata": {
  "kernelspec": {
   "display_name": "Python 3 (ipykernel)",
   "language": "python",
   "name": "python3"
  },
  "language_info": {
   "codemirror_mode": {
    "name": "ipython",
    "version": 3
   },
   "file_extension": ".py",
   "mimetype": "text/x-python",
   "name": "python",
   "nbconvert_exporter": "python",
   "pygments_lexer": "ipython3",
   "version": "3.11.9"
  }
 },
 "nbformat": 4,
 "nbformat_minor": 5
}
