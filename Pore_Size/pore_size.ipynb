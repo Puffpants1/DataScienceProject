{
 "cells": [
  {
   "cell_type": "code",
   "execution_count": 32,
   "id": "a3c8b60c-88f6-4f4d-9e3a-11cef0e7649e",
   "metadata": {},
   "outputs": [],
   "source": [
    "import pywindow as pw\n",
    "from ase import io\n",
    "import pygaps\n",
    "import os\n",
    "from ase import io\n",
    "import pandas as pd\n",
    "import os\n",
    "import shutil\n",
    "import matplotlib.pyplot as plt"
   ]
  },
  {
   "cell_type": "code",
   "execution_count": 33,
   "id": "ab604a0b-bc40-4b1a-84cd-44a1019af649",
   "metadata": {},
   "outputs": [],
   "source": [
    "def extract_crystals(directory, output_directory):\n",
    "    files = os.listdir(directory)\n",
    "    \n",
    "    for file in files:\n",
    "        atom = io.read(directory + f'/{file}')\n",
    "        io.write(output_directory + f'/{file[:-4]}.pdb', atom)\n",
    "\n",
    "    crystals = os.listdir(output_directory)\n",
    "\n",
    "    pdb_files = [file for file in crystals if file.endswith('.pdb')]\n",
    "\n",
    "    return pdb_files\n",
    "\n",
    "def pore_size(dataframe, directory, pdb_files):\n",
    "    for pdb in pdb_files:\n",
    "        molsys = pw.MolecularSystem.load_file(directory + f\"/{pdb}\")\n",
    "        mol = molsys.system_to_molecule()\n",
    "\n",
    "        try:\n",
    "            pore = mol.calculate_pore_volume_opt()\n",
    "            dataframe.loc[pdb[:-4], 'Pore_Size'] = pore\n",
    "        except ValueError:\n",
    "            dataframe.loc[pdb[:-4], 'Pore_Size'] = None\n",
    "            continue\n"
   ]
  },
  {
   "cell_type": "code",
   "execution_count": 34,
   "id": "932d463a-d116-4784-8a0c-b263f193860c",
   "metadata": {},
   "outputs": [],
   "source": [
    "directory = './MOCs'\n",
    "output_directory = './MOCs_pdb'\n",
    "\n",
    "# pdb = extract_crystals(directory, output_directory)"
   ]
  },
  {
   "cell_type": "code",
   "execution_count": 35,
   "id": "ebd88905-d114-49ae-aa7a-a554ce9b5339",
   "metadata": {},
   "outputs": [],
   "source": [
    "moc_list = pd.read_csv('MOCs.csv')\n",
    "moc_list = list(moc_list['refcode'])"
   ]
  },
  {
   "cell_type": "code",
   "execution_count": 36,
   "id": "a9120179-51d1-46e4-baf5-1e406ba33a3b",
   "metadata": {},
   "outputs": [],
   "source": [
    "dataframe = pd.DataFrame(columns = ['Pore_Size'], index = moc_list)"
   ]
  },
  {
   "cell_type": "code",
   "execution_count": 37,
   "id": "e9966b2d-6498-4db0-9300-d87915e02942",
   "metadata": {},
   "outputs": [],
   "source": [
    "moc_list = [file+'.pdb' for file in moc_list]"
   ]
  },
  {
   "cell_type": "code",
   "execution_count": 38,
   "id": "ba0ea25d-7c55-4cf2-8fdb-bc0e6844d12d",
   "metadata": {},
   "outputs": [],
   "source": [
    "pore_size(dataframe, output_directory, moc_list)"
   ]
  },
  {
   "cell_type": "code",
   "execution_count": 39,
   "id": "208a97ca-0468-401e-a7cb-7e4072a30be0",
   "metadata": {},
   "outputs": [],
   "source": [
    "dataframe.to_csv('mocs_pore_size.csv')"
   ]
  },
  {
   "cell_type": "code",
   "execution_count": 8,
   "id": "977a8aaf-a2c6-4831-91c7-5831336b5082",
   "metadata": {},
   "outputs": [],
   "source": [
    "filtered_dataframe = dataframe[(dataframe['Pore_Size'] < 3.9) & (dataframe['Pore_Size'] > 2.9)]\n"
   ]
  },
  {
   "cell_type": "code",
   "execution_count": 11,
   "id": "33683ffa-150d-44ba-a454-c71ff73c9e4d",
   "metadata": {},
   "outputs": [
    {
     "data": {
      "text/html": [
       "<div>\n",
       "<style scoped>\n",
       "    .dataframe tbody tr th:only-of-type {\n",
       "        vertical-align: middle;\n",
       "    }\n",
       "\n",
       "    .dataframe tbody tr th {\n",
       "        vertical-align: top;\n",
       "    }\n",
       "\n",
       "    .dataframe thead th {\n",
       "        text-align: right;\n",
       "    }\n",
       "</style>\n",
       "<table border=\"1\" class=\"dataframe\">\n",
       "  <thead>\n",
       "    <tr style=\"text-align: right;\">\n",
       "      <th></th>\n",
       "      <th>Pore_Size</th>\n",
       "    </tr>\n",
       "  </thead>\n",
       "  <tbody>\n",
       "    <tr>\n",
       "      <th>KIPYEP</th>\n",
       "      <td>3.730508</td>\n",
       "    </tr>\n",
       "    <tr>\n",
       "      <th>VIBPIH</th>\n",
       "      <td>3.294052</td>\n",
       "    </tr>\n",
       "    <tr>\n",
       "      <th>POZJOE</th>\n",
       "      <td>3.211992</td>\n",
       "    </tr>\n",
       "    <tr>\n",
       "      <th>BACXUB</th>\n",
       "      <td>3.412475</td>\n",
       "    </tr>\n",
       "    <tr>\n",
       "      <th>XUCTOF</th>\n",
       "      <td>2.958386</td>\n",
       "    </tr>\n",
       "    <tr>\n",
       "      <th>POBBOZ</th>\n",
       "      <td>3.89158</td>\n",
       "    </tr>\n",
       "    <tr>\n",
       "      <th>HEFJIP</th>\n",
       "      <td>3.435652</td>\n",
       "    </tr>\n",
       "    <tr>\n",
       "      <th>PECROF</th>\n",
       "      <td>3.536083</td>\n",
       "    </tr>\n",
       "    <tr>\n",
       "      <th>DAWSOL</th>\n",
       "      <td>3.852706</td>\n",
       "    </tr>\n",
       "    <tr>\n",
       "      <th>CUGKUK</th>\n",
       "      <td>3.51946</td>\n",
       "    </tr>\n",
       "    <tr>\n",
       "      <th>OCOVIN</th>\n",
       "      <td>3.391284</td>\n",
       "    </tr>\n",
       "    <tr>\n",
       "      <th>BIWHEV</th>\n",
       "      <td>3.551767</td>\n",
       "    </tr>\n",
       "    <tr>\n",
       "      <th>XOWNOM</th>\n",
       "      <td>3.185822</td>\n",
       "    </tr>\n",
       "    <tr>\n",
       "      <th>FUBMIY</th>\n",
       "      <td>3.117697</td>\n",
       "    </tr>\n",
       "    <tr>\n",
       "      <th>POVSUP</th>\n",
       "      <td>3.191691</td>\n",
       "    </tr>\n",
       "    <tr>\n",
       "      <th>LEJLAP</th>\n",
       "      <td>3.298257</td>\n",
       "    </tr>\n",
       "    <tr>\n",
       "      <th>SISBUU</th>\n",
       "      <td>3.770887</td>\n",
       "    </tr>\n",
       "    <tr>\n",
       "      <th>WEKPOV</th>\n",
       "      <td>3.086389</td>\n",
       "    </tr>\n",
       "    <tr>\n",
       "      <th>ENANAJ</th>\n",
       "      <td>3.722853</td>\n",
       "    </tr>\n",
       "    <tr>\n",
       "      <th>RAHYUU01</th>\n",
       "      <td>3.023523</td>\n",
       "    </tr>\n",
       "    <tr>\n",
       "      <th>RAHYUU</th>\n",
       "      <td>2.997423</td>\n",
       "    </tr>\n",
       "    <tr>\n",
       "      <th>VIQTIZ</th>\n",
       "      <td>3.126605</td>\n",
       "    </tr>\n",
       "    <tr>\n",
       "      <th>WICJAT</th>\n",
       "      <td>3.769832</td>\n",
       "    </tr>\n",
       "    <tr>\n",
       "      <th>BIMBEF</th>\n",
       "      <td>3.381852</td>\n",
       "    </tr>\n",
       "  </tbody>\n",
       "</table>\n",
       "</div>"
      ],
      "text/plain": [
       "         Pore_Size\n",
       "KIPYEP    3.730508\n",
       "VIBPIH    3.294052\n",
       "POZJOE    3.211992\n",
       "BACXUB    3.412475\n",
       "XUCTOF    2.958386\n",
       "POBBOZ     3.89158\n",
       "HEFJIP    3.435652\n",
       "PECROF    3.536083\n",
       "DAWSOL    3.852706\n",
       "CUGKUK     3.51946\n",
       "OCOVIN    3.391284\n",
       "BIWHEV    3.551767\n",
       "XOWNOM    3.185822\n",
       "FUBMIY    3.117697\n",
       "POVSUP    3.191691\n",
       "LEJLAP    3.298257\n",
       "SISBUU    3.770887\n",
       "WEKPOV    3.086389\n",
       "ENANAJ    3.722853\n",
       "RAHYUU01  3.023523\n",
       "RAHYUU    2.997423\n",
       "VIQTIZ    3.126605\n",
       "WICJAT    3.769832\n",
       "BIMBEF    3.381852"
      ]
     },
     "execution_count": 11,
     "metadata": {},
     "output_type": "execute_result"
    }
   ],
   "source": [
    "filtered_dataframe"
   ]
  },
  {
   "cell_type": "code",
   "execution_count": 26,
   "id": "8e468d6c-511e-4927-887e-7017977215de",
   "metadata": {},
   "outputs": [
    {
     "data": {
      "image/png": "[encoded data removed]",
      "text/plain": [
       "<Figure size 1000x600 with 1 Axes>"
      ]
     },
     "metadata": {},
     "output_type": "display_data"
    }
   ],
   "source": [
    "# dataframe = dataframe['Pore_Size'].dropna()\n",
    "\n",
    "plt.figure(figsize=(10, 6))\n",
    "plt.hist(dataframe, bins=100, edgecolor='black')\n",
    "plt.title(f'Histogram of Pore Size')\n",
    "plt.xlabel('Pore_Size')\n",
    "plt.ylabel('Frequency')\n",
    "plt.grid(True)\n",
    "plt.show()"
   ]
  },
  {
   "cell_type": "code",
   "execution_count": 17,
   "id": "76ed2cb0-4a35-45c2-b4d0-b5c5fd8885dc",
   "metadata": {},
   "outputs": [
    {
     "data": {
      "text/plain": [
       "ZOYDIC     21.666914\n",
       "ZULHOF     24.416509\n",
       "GUSRIX      1.012677\n",
       "GUSRUJ      0.579607\n",
       "GUSROD      0.249159\n",
       "             ...    \n",
       "CUYZON    102.564677\n",
       "DUCZIM      7.834368\n",
       "TEXRIZ      0.073346\n",
       "UNITUI     56.858578\n",
       "DOJNEY      55.26653\n",
       "Name: Pore_Size, Length: 1014, dtype: object"
      ]
     },
     "execution_count": 17,
     "metadata": {},
     "output_type": "execute_result"
    }
   ],
   "source": [
    "dataframe"
   ]
  },
  {
   "cell_type": "code",
   "execution_count": 12,
   "id": "20d04e46-b440-4800-a76e-b2f51d315887",
   "metadata": {},
   "outputs": [
    {
     "name": "stderr",
     "output_type": "stream",
     "text": [
      "C:\\Users\\54284\\AppData\\Local\\Temp\\ipykernel_20404\\4047196883.py:1: SettingWithCopyWarning: \n",
      "A value is trying to be set on a copy of a slice from a DataFrame\n",
      "\n",
      "See the caveats in the documentation: https://pandas.pydata.org/pandas-docs/stable/user_guide/indexing.html#returning-a-view-versus-a-copy\n",
      "  filtered_dataframe.drop(['BIWHEV'], axis=0, inplace=True)\n"
     ]
    }
   ],
   "source": [
    "filtered_dataframe.drop(['BIWHEV'], axis=0, inplace=True)"
   ]
  },
  {
   "cell_type": "code",
   "execution_count": 15,
   "id": "7b790726-90fc-47c3-a491-29c5cad7e345",
   "metadata": {},
   "outputs": [],
   "source": [
    "filtered_dataframe.to_csv('candidates.csv', index=True)"
   ]
  },
  {
   "cell_type": "code",
   "execution_count": 2,
   "id": "91182f82-a597-4310-8f68-90b49f87cc42",
   "metadata": {},
   "outputs": [],
   "source": [
    "filtered_dataframe = pd.read_csv('candidates.csv')"
   ]
  },
  {
   "cell_type": "code",
   "execution_count": 3,
   "id": "a7b8f469-39f2-4626-8da9-3881babad8c2",
   "metadata": {},
   "outputs": [
    {
     "data": {
      "text/html": [
       "<div>\n",
       "<style scoped>\n",
       "    .dataframe tbody tr th:only-of-type {\n",
       "        vertical-align: middle;\n",
       "    }\n",
       "\n",
       "    .dataframe tbody tr th {\n",
       "        vertical-align: top;\n",
       "    }\n",
       "\n",
       "    .dataframe thead th {\n",
       "        text-align: right;\n",
       "    }\n",
       "</style>\n",
       "<table border=\"1\" class=\"dataframe\">\n",
       "  <thead>\n",
       "    <tr style=\"text-align: right;\">\n",
       "      <th></th>\n",
       "      <th>Unnamed: 0</th>\n",
       "      <th>Pore_Size</th>\n",
       "    </tr>\n",
       "  </thead>\n",
       "  <tbody>\n",
       "    <tr>\n",
       "      <th>0</th>\n",
       "      <td>KIPYEP</td>\n",
       "      <td>3.730508</td>\n",
       "    </tr>\n",
       "    <tr>\n",
       "      <th>1</th>\n",
       "      <td>VIBPIH</td>\n",
       "      <td>3.294052</td>\n",
       "    </tr>\n",
       "    <tr>\n",
       "      <th>2</th>\n",
       "      <td>POZJOE</td>\n",
       "      <td>3.211992</td>\n",
       "    </tr>\n",
       "    <tr>\n",
       "      <th>3</th>\n",
       "      <td>BACXUB</td>\n",
       "      <td>3.412475</td>\n",
       "    </tr>\n",
       "    <tr>\n",
       "      <th>4</th>\n",
       "      <td>XUCTOF</td>\n",
       "      <td>2.958386</td>\n",
       "    </tr>\n",
       "    <tr>\n",
       "      <th>5</th>\n",
       "      <td>POBBOZ</td>\n",
       "      <td>3.891580</td>\n",
       "    </tr>\n",
       "    <tr>\n",
       "      <th>6</th>\n",
       "      <td>HEFJIP</td>\n",
       "      <td>3.435652</td>\n",
       "    </tr>\n",
       "    <tr>\n",
       "      <th>7</th>\n",
       "      <td>PECROF</td>\n",
       "      <td>3.536083</td>\n",
       "    </tr>\n",
       "    <tr>\n",
       "      <th>8</th>\n",
       "      <td>DAWSOL</td>\n",
       "      <td>3.852706</td>\n",
       "    </tr>\n",
       "    <tr>\n",
       "      <th>9</th>\n",
       "      <td>CUGKUK</td>\n",
       "      <td>3.519460</td>\n",
       "    </tr>\n",
       "    <tr>\n",
       "      <th>10</th>\n",
       "      <td>OCOVIN</td>\n",
       "      <td>3.391284</td>\n",
       "    </tr>\n",
       "    <tr>\n",
       "      <th>11</th>\n",
       "      <td>XOWNOM</td>\n",
       "      <td>3.185822</td>\n",
       "    </tr>\n",
       "    <tr>\n",
       "      <th>12</th>\n",
       "      <td>FUBMIY</td>\n",
       "      <td>3.117697</td>\n",
       "    </tr>\n",
       "    <tr>\n",
       "      <th>13</th>\n",
       "      <td>POVSUP</td>\n",
       "      <td>3.191691</td>\n",
       "    </tr>\n",
       "    <tr>\n",
       "      <th>14</th>\n",
       "      <td>LEJLAP</td>\n",
       "      <td>3.298257</td>\n",
       "    </tr>\n",
       "    <tr>\n",
       "      <th>15</th>\n",
       "      <td>SISBUU</td>\n",
       "      <td>3.770887</td>\n",
       "    </tr>\n",
       "    <tr>\n",
       "      <th>16</th>\n",
       "      <td>WEKPOV</td>\n",
       "      <td>3.086389</td>\n",
       "    </tr>\n",
       "    <tr>\n",
       "      <th>17</th>\n",
       "      <td>ENANAJ</td>\n",
       "      <td>3.722853</td>\n",
       "    </tr>\n",
       "    <tr>\n",
       "      <th>18</th>\n",
       "      <td>RAHYUU01</td>\n",
       "      <td>3.023523</td>\n",
       "    </tr>\n",
       "    <tr>\n",
       "      <th>19</th>\n",
       "      <td>RAHYUU</td>\n",
       "      <td>2.997423</td>\n",
       "    </tr>\n",
       "    <tr>\n",
       "      <th>20</th>\n",
       "      <td>VIQTIZ</td>\n",
       "      <td>3.126605</td>\n",
       "    </tr>\n",
       "    <tr>\n",
       "      <th>21</th>\n",
       "      <td>WICJAT</td>\n",
       "      <td>3.769832</td>\n",
       "    </tr>\n",
       "    <tr>\n",
       "      <th>22</th>\n",
       "      <td>BIMBEF</td>\n",
       "      <td>3.381852</td>\n",
       "    </tr>\n",
       "  </tbody>\n",
       "</table>\n",
       "</div>"
      ],
      "text/plain": [
       "   Unnamed: 0  Pore_Size\n",
       "0      KIPYEP   3.730508\n",
       "1      VIBPIH   3.294052\n",
       "2      POZJOE   3.211992\n",
       "3      BACXUB   3.412475\n",
       "4      XUCTOF   2.958386\n",
       "5      POBBOZ   3.891580\n",
       "6      HEFJIP   3.435652\n",
       "7      PECROF   3.536083\n",
       "8      DAWSOL   3.852706\n",
       "9      CUGKUK   3.519460\n",
       "10     OCOVIN   3.391284\n",
       "11     XOWNOM   3.185822\n",
       "12     FUBMIY   3.117697\n",
       "13     POVSUP   3.191691\n",
       "14     LEJLAP   3.298257\n",
       "15     SISBUU   3.770887\n",
       "16     WEKPOV   3.086389\n",
       "17     ENANAJ   3.722853\n",
       "18   RAHYUU01   3.023523\n",
       "19     RAHYUU   2.997423\n",
       "20     VIQTIZ   3.126605\n",
       "21     WICJAT   3.769832\n",
       "22     BIMBEF   3.381852"
      ]
     },
     "execution_count": 3,
     "metadata": {},
     "output_type": "execute_result"
    }
   ],
   "source": [
    "filtered_dataframe"
   ]
  },
  {
   "cell_type": "code",
   "execution_count": 18,
   "id": "9d1c21e6-fb57-4701-86ae-3a1465005544",
   "metadata": {},
   "outputs": [],
   "source": [
    "crystals = list(filtered_dataframe['Unnamed: 0'])"
   ]
  },
  {
   "cell_type": "code",
   "execution_count": 19,
   "id": "9856a5a3-72be-49e3-bc20-979811f73da4",
   "metadata": {},
   "outputs": [
    {
     "data": {
      "text/plain": [
       "['KIPYEP',\n",
       " 'VIBPIH',\n",
       " 'POZJOE',\n",
       " 'BACXUB',\n",
       " 'XUCTOF',\n",
       " 'POBBOZ',\n",
       " 'HEFJIP',\n",
       " 'PECROF',\n",
       " 'DAWSOL',\n",
       " 'CUGKUK',\n",
       " 'OCOVIN',\n",
       " 'XOWNOM',\n",
       " 'FUBMIY',\n",
       " 'POVSUP',\n",
       " 'LEJLAP',\n",
       " 'SISBUU',\n",
       " 'WEKPOV',\n",
       " 'ENANAJ',\n",
       " 'RAHYUU01',\n",
       " 'RAHYUU',\n",
       " 'VIQTIZ',\n",
       " 'WICJAT',\n",
       " 'BIMBEF']"
      ]
     },
     "execution_count": 19,
     "metadata": {},
     "output_type": "execute_result"
    }
   ],
   "source": [
    "crystals"
   ]
  },
  {
   "cell_type": "code",
   "execution_count": 20,
   "id": "2a40b804-2e5d-473d-a7ac-363f8d5b1a74",
   "metadata": {},
   "outputs": [
    {
     "name": "stdout",
     "output_type": "stream",
     "text": [
      "Copy ./cages_and_coordinates\\KIPYEP.cif to ./candidate\\KIPYEP\n",
      "Copy ./cages_and_coordinates\\VIBPIH.cif to ./candidate\\VIBPIH\n",
      "Copy ./cages_and_coordinates\\POZJOE.cif to ./candidate\\POZJOE\n",
      "Copy ./cages_and_coordinates\\BACXUB.cif to ./candidate\\BACXUB\n",
      "Copy ./cages_and_coordinates\\XUCTOF.cif to ./candidate\\XUCTOF\n",
      "Copy ./cages_and_coordinates\\POBBOZ.cif to ./candidate\\POBBOZ\n",
      "Copy ./cages_and_coordinates\\HEFJIP.cif to ./candidate\\HEFJIP\n",
      "Copy ./cages_and_coordinates\\PECROF.cif to ./candidate\\PECROF\n",
      "Copy ./cages_and_coordinates\\DAWSOL.cif to ./candidate\\DAWSOL\n",
      "Copy ./cages_and_coordinates\\CUGKUK.cif to ./candidate\\CUGKUK\n",
      "Copy ./cages_and_coordinates\\OCOVIN.cif to ./candidate\\OCOVIN\n",
      "Copy ./cages_and_coordinates\\XOWNOM.cif to ./candidate\\XOWNOM\n",
      "Copy ./cages_and_coordinates\\FUBMIY.cif to ./candidate\\FUBMIY\n",
      "Copy ./cages_and_coordinates\\POVSUP.cif to ./candidate\\POVSUP\n",
      "Copy ./cages_and_coordinates\\LEJLAP.cif to ./candidate\\LEJLAP\n",
      "Copy ./cages_and_coordinates\\SISBUU.cif to ./candidate\\SISBUU\n",
      "Copy ./cages_and_coordinates\\WEKPOV.cif to ./candidate\\WEKPOV\n",
      "Copy ./cages_and_coordinates\\ENANAJ.cif to ./candidate\\ENANAJ\n",
      "Copy ./cages_and_coordinates\\RAHYUU01.cif to ./candidate\\RAHYUU01\n",
      "Copy ./cages_and_coordinates\\RAHYUU.cif to ./candidate\\RAHYUU\n",
      "Copy ./cages_and_coordinates\\VIQTIZ.cif to ./candidate\\VIQTIZ\n",
      "Copy ./cages_and_coordinates\\WICJAT.cif to ./candidate\\WICJAT\n",
      "Copy ./cages_and_coordinates\\BIMBEF.cif to ./candidate\\BIMBEF\n"
     ]
    }
   ],
   "source": [
    "source_directory = './cages_and_coordinates'\n",
    "output_directory = './candidate'\n",
    "\n",
    "if not os.path.exists(output_directory):\n",
    "    os.makedirs(output_directory)\n",
    "\n",
    "for crystal in crystals:\n",
    "    cif_file = f'{crystal}.cif'\n",
    "    source_file = os.path.join(source_directory, cif_file)\n",
    "    output_file_directory = os.path.join(output_directory, crystal)\n",
    "    if not os.path.exists(output_file_directory):\n",
    "        os.makedirs(output_file_directory)\n",
    "    if os.path.isfile(source_file):\n",
    "        shutil.copy(source_file, output_file_directory)\n",
    "        print(f'Copy {source_file} to {output_file_directory}')"
   ]
  },
  {
   "cell_type": "code",
   "execution_count": 33,
   "id": "b9dbdfd7-d944-4ea1-9e5b-f1547fb97047",
   "metadata": {},
   "outputs": [],
   "source": [
    "for crystal in crystals:\n",
    "    cif_file = f'{crystal}.cif'\n",
    "    path = output_directory+f'/{crystal}'\n",
    "    file_path = os.path.join(path, cif_file)\n",
    "    atom = io.read(file_path)\n",
    "    io.write(f'{crystal}.data', atom, format='lammps-data')"
   ]
  },
  {
   "cell_type": "code",
   "execution_count": 35,
   "id": "5a033bf6-95d9-4c3e-9683-1a25497c3805",
   "metadata": {},
   "outputs": [
    {
     "name": "stdout",
     "output_type": "stream",
     "text": [
      "Copy ./GUSRAP.data to ./candidates\\GUSRAP\n",
      "Copy ./KIPYEP.data to ./candidates\\KIPYEP\n",
      "Copy ./WAWWEZ.data to ./candidates\\WAWWEZ\n",
      "Copy ./VIBPIH.data to ./candidates\\VIBPIH\n",
      "Copy ./HABKAY.data to ./candidates\\HABKAY\n",
      "Copy ./OLINAZ.data to ./candidates\\OLINAZ\n",
      "Copy ./SAGZOQ.data to ./candidates\\SAGZOQ\n",
      "Copy ./POZJOE.data to ./candidates\\POZJOE\n",
      "Copy ./BALGOM.data to ./candidates\\BALGOM\n",
      "Copy ./BACXUB.data to ./candidates\\BACXUB\n",
      "Copy ./PUCHAX.data to ./candidates\\PUCHAX\n",
      "Copy ./QOVZAD.data to ./candidates\\QOVZAD\n",
      "Copy ./XUCTOF.data to ./candidates\\XUCTOF\n",
      "Copy ./POBBOZ.data to ./candidates\\POBBOZ\n",
      "Copy ./GASQIA.data to ./candidates\\GASQIA\n",
      "Copy ./HODVAA.data to ./candidates\\HODVAA\n",
      "Copy ./HEFJIP.data to ./candidates\\HEFJIP\n",
      "Copy ./PECROF.data to ./candidates\\PECROF\n",
      "Copy ./DAWSOL.data to ./candidates\\DAWSOL\n",
      "Copy ./CUGKUK.data to ./candidates\\CUGKUK\n",
      "Copy ./OCOVIN.data to ./candidates\\OCOVIN\n",
      "Copy ./DAWSUR.data to ./candidates\\DAWSUR\n",
      "Copy ./XOWNOM.data to ./candidates\\XOWNOM\n",
      "Copy ./SIZKET.data to ./candidates\\SIZKET\n",
      "Copy ./FUBMIY.data to ./candidates\\FUBMIY\n",
      "Copy ./JEJHIS.data to ./candidates\\JEJHIS\n",
      "Copy ./POVSUP.data to ./candidates\\POVSUP\n",
      "Copy ./USALAE.data to ./candidates\\USALAE\n",
      "Copy ./LEJLAP.data to ./candidates\\LEJLAP\n",
      "Copy ./SISBUU.data to ./candidates\\SISBUU\n",
      "Copy ./WEKPOV.data to ./candidates\\WEKPOV\n",
      "Copy ./ENANAJ.data to ./candidates\\ENANAJ\n",
      "Copy ./IMEZAC.data to ./candidates\\IMEZAC\n",
      "Copy ./RAHYUU01.data to ./candidates\\RAHYUU01\n",
      "Copy ./WOGSIX.data to ./candidates\\WOGSIX\n",
      "Copy ./SUJKEO.data to ./candidates\\SUJKEO\n",
      "Copy ./RAHYUU.data to ./candidates\\RAHYUU\n",
      "Copy ./VIQTIZ.data to ./candidates\\VIQTIZ\n",
      "Copy ./WICJAT.data to ./candidates\\WICJAT\n",
      "Copy ./BIMBEF.data to ./candidates\\BIMBEF\n",
      "Copy ./PUCGUQ.data to ./candidates\\PUCGUQ\n"
     ]
    }
   ],
   "source": [
    "for crystal in crystals:\n",
    "    data_file = f'{crystal}.data'\n",
    "    source_file = os.path.join('./', data_file)\n",
    "    output_file_directory = os.path.join(output_directory, crystal)\n",
    "    if not os.path.exists(output_file_directory):\n",
    "        os.makedirs(output_file_directory)\n",
    "    if os.path.isfile(source_file):\n",
    "        shutil.copy(source_file, output_file_directory)\n",
    "        print(f'Copy {source_file} to {output_file_directory}')"
   ]
  },
  {
   "cell_type": "code",
   "execution_count": null,
   "id": "89a4c613-9132-4398-b677-5c604f777ab4",
   "metadata": {},
   "outputs": [],
   "source": []
  }
 ],
 "metadata": {
  "kernelspec": {
   "display_name": "Python 3 (ipykernel)",
   "language": "python",
   "name": "python3"
  },
  "language_info": {
   "codemirror_mode": {
    "name": "ipython",
    "version": 3
   },
   "file_extension": ".py",
   "mimetype": "text/x-python",
   "name": "python",
   "nbconvert_exporter": "python",
   "pygments_lexer": "ipython3",
   "version": "3.11.9"
  }
 },
 "nbformat": 4,
 "nbformat_minor": 5
}
